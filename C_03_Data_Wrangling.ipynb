{
 "cells": [
  {
   "cell_type": "markdown",
   "metadata": {},
   "source": [
    "# Data Wrangling in Python\n",
    "\n",
    "### Case Study - Analysis of NYC 311 Service Requests\n",
    "\n",
    "In this analysis, we will look at the 311 Service Requests dataset published by New York City. \n",
    "\n",
    "#### What are 311 Service Requests?\n",
    "\n",
    "311 Service Requests are requests made by residents for city services such as noise complains, or issues with water and utilities. Each request is recorded along with several pieces of associated information such as the type of request and where in the city the request originated.\n",
    "\n",
    "#### Dataset\n",
    "The current dataset includes more than 17 million rows of data and contains data from 2010 to the present.\n",
    "\n",
    "The full dataset is updated daily and can be accessed [on the NYC Open Data Wesbite](https://nycopendata.socrata.com/Social-Services/311-Service-Requests-from-2010-to-Present/erm2-nwe9).\n",
    "\n",
    "#### Analysis\n",
    "\n",
    "We will look into a small subset of this data: all complaints for the month of April 2018. \n",
    "\n",
    "The question we will try to answer with the analysis of the 311 NYC data is as follows:\n",
    "\n",
    "> What part of the city has the most noise complaints on Sunday?\n",
    "\n",
    "[comment]: <> (some materials in this notebook are based from Julia Evans https://jvns.ca/blog/2013/12/22/cooking-with-pandas/)"
   ]
  },
  {
   "cell_type": "markdown",
   "metadata": {},
   "source": [
    "## Part 0 - Importing Libraries"
   ]
  },
  {
   "cell_type": "code",
   "execution_count": 1,
   "metadata": {
    "ExecuteTime": {
     "end_time": "2020-09-02T02:26:09.769256Z",
     "start_time": "2020-09-02T02:26:08.411692Z"
    }
   },
   "outputs": [],
   "source": [
    "import numpy as np\n",
    "import pandas as pd\n",
    "import matplotlib.pyplot as plt"
   ]
  },
  {
   "cell_type": "markdown",
   "metadata": {},
   "source": [
    "## Part 1 - Reading the data\n",
    "For this demonstration, download the data from the link. \n",
    "\n",
    "Once we have read the data, it's a good idea to check the `head`, `shape`, and `info` of the result to make sure all rows and columns have been captured.\n",
    "- `head` or `tail` will show the first or last few records of your DataFrame\n",
    "- `shape` will show you the number of rows and columns\n",
    "- `info` will show you the columns and their respective data types\n",
    "\n",
    "**Note:** \n",
    "- Make sure that the file is in the correct folder or update the path in the read_csv() function to include the correct path to the file. \n",
    "- The `pd.read_csv` command has [many options](https://pandas.pydata.org/pandas-docs/stable/reference/api/pandas.read_csv.html) that allow you to control how the file is read. For example, some files will have headers while others won't. Pandas will try to detect these things automatically, but in some cases you may need to play around wiht the options to get it just right."
   ]
  },
  {
   "cell_type": "code",
   "execution_count": 2,
   "metadata": {
    "ExecuteTime": {
     "end_time": "2020-09-02T02:26:12.704564Z",
     "start_time": "2020-09-02T02:26:10.783386Z"
    }
   },
   "outputs": [
    {
     "name": "stderr",
     "output_type": "stream",
     "text": [
      "/Users/jbsantoalla/anaconda3/lib/python3.7/site-packages/IPython/core/interactiveshell.py:3057: DtypeWarning: Columns (8,17,31) have mixed types. Specify dtype option on import or set low_memory=False.\n",
      "  interactivity=interactivity, compiler=compiler, result=result)\n"
     ]
    }
   ],
   "source": [
    "complaints = pd.read_csv(\"C_311_Service_Requests_APRIL2018.csv\")"
   ]
  },
  {
   "cell_type": "code",
   "execution_count": 3,
   "metadata": {
    "ExecuteTime": {
     "end_time": "2020-09-02T02:26:15.140000Z",
     "start_time": "2020-09-02T02:26:15.111423Z"
    }
   },
   "outputs": [
    {
     "data": {
      "text/html": [
       "<div>\n",
       "<style scoped>\n",
       "    .dataframe tbody tr th:only-of-type {\n",
       "        vertical-align: middle;\n",
       "    }\n",
       "\n",
       "    .dataframe tbody tr th {\n",
       "        vertical-align: top;\n",
       "    }\n",
       "\n",
       "    .dataframe thead th {\n",
       "        text-align: right;\n",
       "    }\n",
       "</style>\n",
       "<table border=\"1\" class=\"dataframe\">\n",
       "  <thead>\n",
       "    <tr style=\"text-align: right;\">\n",
       "      <th></th>\n",
       "      <th>Unique Key</th>\n",
       "      <th>Created Date</th>\n",
       "      <th>Closed Date</th>\n",
       "      <th>Agency</th>\n",
       "      <th>Agency Name</th>\n",
       "      <th>Complaint Type</th>\n",
       "      <th>Descriptor</th>\n",
       "      <th>Location Type</th>\n",
       "      <th>Incident Zip</th>\n",
       "      <th>Incident Address</th>\n",
       "      <th>...</th>\n",
       "      <th>Vehicle Type</th>\n",
       "      <th>Taxi Company Borough</th>\n",
       "      <th>Taxi Pick Up Location</th>\n",
       "      <th>Bridge Highway Name</th>\n",
       "      <th>Bridge Highway Direction</th>\n",
       "      <th>Road Ramp</th>\n",
       "      <th>Bridge Highway Segment</th>\n",
       "      <th>Latitude</th>\n",
       "      <th>Longitude</th>\n",
       "      <th>Location</th>\n",
       "    </tr>\n",
       "  </thead>\n",
       "  <tbody>\n",
       "    <tr>\n",
       "      <th>0</th>\n",
       "      <td>38837194</td>\n",
       "      <td>04/01/2018 12:00:00 AM</td>\n",
       "      <td>04/10/2018 12:00:00 AM</td>\n",
       "      <td>DOHMH</td>\n",
       "      <td>Department of Health and Mental Hygiene</td>\n",
       "      <td>Standing Water</td>\n",
       "      <td>Swimming Pool - Unmaintained</td>\n",
       "      <td>1-2 Family Dwelling</td>\n",
       "      <td>10312</td>\n",
       "      <td>45 JEANETTE AVENUE</td>\n",
       "      <td>...</td>\n",
       "      <td>NaN</td>\n",
       "      <td>NaN</td>\n",
       "      <td>NaN</td>\n",
       "      <td>NaN</td>\n",
       "      <td>NaN</td>\n",
       "      <td>NaN</td>\n",
       "      <td>NaN</td>\n",
       "      <td>40.543132</td>\n",
       "      <td>-74.175614</td>\n",
       "      <td>(40.54313178878882, -74.17561421997694)</td>\n",
       "    </tr>\n",
       "    <tr>\n",
       "      <th>1</th>\n",
       "      <td>38837043</td>\n",
       "      <td>04/01/2018 12:00:00 AM</td>\n",
       "      <td>03/12/2018 12:00:00 AM</td>\n",
       "      <td>DOHMH</td>\n",
       "      <td>Department of Health and Mental Hygiene</td>\n",
       "      <td>Rodent</td>\n",
       "      <td>Condition Attracting Rodents</td>\n",
       "      <td>3+ Family Apt. Building</td>\n",
       "      <td>11217</td>\n",
       "      <td>399 ATLANTIC AVENUE</td>\n",
       "      <td>...</td>\n",
       "      <td>NaN</td>\n",
       "      <td>NaN</td>\n",
       "      <td>NaN</td>\n",
       "      <td>NaN</td>\n",
       "      <td>NaN</td>\n",
       "      <td>NaN</td>\n",
       "      <td>NaN</td>\n",
       "      <td>40.687177</td>\n",
       "      <td>-73.984820</td>\n",
       "      <td>(40.687177293988285, -73.98481975668435)</td>\n",
       "    </tr>\n",
       "    <tr>\n",
       "      <th>2</th>\n",
       "      <td>38836824</td>\n",
       "      <td>04/01/2018 12:00:00 AM</td>\n",
       "      <td>04/09/2018 12:00:00 AM</td>\n",
       "      <td>DOHMH</td>\n",
       "      <td>Department of Health and Mental Hygiene</td>\n",
       "      <td>Rodent</td>\n",
       "      <td>Rat Sighting</td>\n",
       "      <td>Commercial Building</td>\n",
       "      <td>11224</td>\n",
       "      <td>2980 WEST   29 STREET</td>\n",
       "      <td>...</td>\n",
       "      <td>NaN</td>\n",
       "      <td>NaN</td>\n",
       "      <td>NaN</td>\n",
       "      <td>NaN</td>\n",
       "      <td>NaN</td>\n",
       "      <td>NaN</td>\n",
       "      <td>NaN</td>\n",
       "      <td>40.574249</td>\n",
       "      <td>-73.995169</td>\n",
       "      <td>(40.57424936932171, -73.99516925322999)</td>\n",
       "    </tr>\n",
       "    <tr>\n",
       "      <th>3</th>\n",
       "      <td>38836823</td>\n",
       "      <td>04/01/2018 12:00:00 AM</td>\n",
       "      <td>03/20/2018 12:00:00 AM</td>\n",
       "      <td>DOHMH</td>\n",
       "      <td>Department of Health and Mental Hygiene</td>\n",
       "      <td>Rodent</td>\n",
       "      <td>Rat Sighting</td>\n",
       "      <td>3+ Family Apt. Building</td>\n",
       "      <td>10025</td>\n",
       "      <td>360 CENTRAL PARK WEST</td>\n",
       "      <td>...</td>\n",
       "      <td>NaN</td>\n",
       "      <td>NaN</td>\n",
       "      <td>NaN</td>\n",
       "      <td>NaN</td>\n",
       "      <td>NaN</td>\n",
       "      <td>NaN</td>\n",
       "      <td>NaN</td>\n",
       "      <td>40.791567</td>\n",
       "      <td>-73.964767</td>\n",
       "      <td>(40.79156678627206, -73.9647670611818)</td>\n",
       "    </tr>\n",
       "    <tr>\n",
       "      <th>4</th>\n",
       "      <td>38836788</td>\n",
       "      <td>04/01/2018 12:00:00 AM</td>\n",
       "      <td>04/04/2018 06:19:08 PM</td>\n",
       "      <td>DOHMH</td>\n",
       "      <td>Department of Health and Mental Hygiene</td>\n",
       "      <td>Unsanitary Animal Pvt Property</td>\n",
       "      <td>Dog</td>\n",
       "      <td>3+ Family Apartment Building</td>\n",
       "      <td>10454</td>\n",
       "      <td>590 EAST  138 STREET</td>\n",
       "      <td>...</td>\n",
       "      <td>NaN</td>\n",
       "      <td>NaN</td>\n",
       "      <td>NaN</td>\n",
       "      <td>NaN</td>\n",
       "      <td>NaN</td>\n",
       "      <td>NaN</td>\n",
       "      <td>NaN</td>\n",
       "      <td>40.806377</td>\n",
       "      <td>-73.916446</td>\n",
       "      <td>(40.806377143967396, -73.91644582317069)</td>\n",
       "    </tr>\n",
       "  </tbody>\n",
       "</table>\n",
       "<p>5 rows × 41 columns</p>\n",
       "</div>"
      ],
      "text/plain": [
       "   Unique Key            Created Date             Closed Date Agency  \\\n",
       "0    38837194  04/01/2018 12:00:00 AM  04/10/2018 12:00:00 AM  DOHMH   \n",
       "1    38837043  04/01/2018 12:00:00 AM  03/12/2018 12:00:00 AM  DOHMH   \n",
       "2    38836824  04/01/2018 12:00:00 AM  04/09/2018 12:00:00 AM  DOHMH   \n",
       "3    38836823  04/01/2018 12:00:00 AM  03/20/2018 12:00:00 AM  DOHMH   \n",
       "4    38836788  04/01/2018 12:00:00 AM  04/04/2018 06:19:08 PM  DOHMH   \n",
       "\n",
       "                               Agency Name                  Complaint Type  \\\n",
       "0  Department of Health and Mental Hygiene                  Standing Water   \n",
       "1  Department of Health and Mental Hygiene                          Rodent   \n",
       "2  Department of Health and Mental Hygiene                          Rodent   \n",
       "3  Department of Health and Mental Hygiene                          Rodent   \n",
       "4  Department of Health and Mental Hygiene  Unsanitary Animal Pvt Property   \n",
       "\n",
       "                     Descriptor                 Location Type Incident Zip  \\\n",
       "0  Swimming Pool - Unmaintained           1-2 Family Dwelling        10312   \n",
       "1  Condition Attracting Rodents       3+ Family Apt. Building        11217   \n",
       "2                  Rat Sighting           Commercial Building        11224   \n",
       "3                  Rat Sighting       3+ Family Apt. Building        10025   \n",
       "4                           Dog  3+ Family Apartment Building        10454   \n",
       "\n",
       "        Incident Address  ... Vehicle Type Taxi Company Borough  \\\n",
       "0     45 JEANETTE AVENUE  ...          NaN                  NaN   \n",
       "1    399 ATLANTIC AVENUE  ...          NaN                  NaN   \n",
       "2  2980 WEST   29 STREET  ...          NaN                  NaN   \n",
       "3  360 CENTRAL PARK WEST  ...          NaN                  NaN   \n",
       "4   590 EAST  138 STREET  ...          NaN                  NaN   \n",
       "\n",
       "  Taxi Pick Up Location Bridge Highway Name Bridge Highway Direction  \\\n",
       "0                   NaN                 NaN                      NaN   \n",
       "1                   NaN                 NaN                      NaN   \n",
       "2                   NaN                 NaN                      NaN   \n",
       "3                   NaN                 NaN                      NaN   \n",
       "4                   NaN                 NaN                      NaN   \n",
       "\n",
       "  Road Ramp Bridge Highway Segment   Latitude  Longitude  \\\n",
       "0       NaN                    NaN  40.543132 -74.175614   \n",
       "1       NaN                    NaN  40.687177 -73.984820   \n",
       "2       NaN                    NaN  40.574249 -73.995169   \n",
       "3       NaN                    NaN  40.791567 -73.964767   \n",
       "4       NaN                    NaN  40.806377 -73.916446   \n",
       "\n",
       "                                   Location  \n",
       "0   (40.54313178878882, -74.17561421997694)  \n",
       "1  (40.687177293988285, -73.98481975668435)  \n",
       "2   (40.57424936932171, -73.99516925322999)  \n",
       "3    (40.79156678627206, -73.9647670611818)  \n",
       "4  (40.806377143967396, -73.91644582317069)  \n",
       "\n",
       "[5 rows x 41 columns]"
      ]
     },
     "execution_count": 3,
     "metadata": {},
     "output_type": "execute_result"
    }
   ],
   "source": [
    "complaints.head()"
   ]
  },
  {
   "cell_type": "code",
   "execution_count": null,
   "metadata": {
    "ExecuteTime": {
     "end_time": "2020-09-02T02:26:17.310287Z",
     "start_time": "2020-09-02T02:26:17.306087Z"
    },
    "scrolled": true
   },
   "outputs": [],
   "source": []
  },
  {
   "cell_type": "code",
   "execution_count": null,
   "metadata": {
    "ExecuteTime": {
     "end_time": "2020-09-02T02:26:18.962450Z",
     "start_time": "2020-09-02T02:26:18.958362Z"
    }
   },
   "outputs": [],
   "source": []
  },
  {
   "cell_type": "code",
   "execution_count": null,
   "metadata": {
    "ExecuteTime": {
     "end_time": "2020-07-24T11:34:57.398549Z",
     "start_time": "2020-07-24T11:34:57.394152Z"
    }
   },
   "outputs": [],
   "source": []
  },
  {
   "cell_type": "code",
   "execution_count": null,
   "metadata": {
    "ExecuteTime": {
     "end_time": "2020-09-02T02:26:21.157480Z",
     "start_time": "2020-09-02T02:26:20.905722Z"
    }
   },
   "outputs": [],
   "source": []
  },
  {
   "cell_type": "markdown",
   "metadata": {
    "ExecuteTime": {
     "end_time": "2020-06-25T22:54:41.067308Z",
     "start_time": "2020-06-25T22:54:40.833842Z"
    }
   },
   "source": [
    "## Part 2 - Investigating the data\n",
    "\n",
    "Now that we know that all our data has been stored in the DataFrame, lets see what columns we want to use, what data is in there, and figure out if we need to clean up the data at all.\n",
    "\n",
    "The columns we are interested in are:\n",
    "1. **Created Date** - to determine which day of the week the complaint was filed\n",
    "2. **Borough** - to determine which part of the city the complaint originated from\n",
    "3. **Complaint Type** - to determine the category of complaint\n",
    "\n",
    "Lets take a look at these columns and see what we find there.\n",
    "- functions like `unique()` and `value_counts()` are useful to investigate columns with string or date values\n",
    "- functions like `describe()` are useful to investigate columns with numerical values and check for outliers"
   ]
  },
  {
   "cell_type": "code",
   "execution_count": null,
   "metadata": {
    "ExecuteTime": {
     "end_time": "2020-07-24T11:40:44.066626Z",
     "start_time": "2020-07-24T11:40:44.038550Z"
    }
   },
   "outputs": [],
   "source": []
  },
  {
   "cell_type": "code",
   "execution_count": null,
   "metadata": {
    "ExecuteTime": {
     "end_time": "2020-07-24T11:41:51.832639Z",
     "start_time": "2020-07-24T11:41:51.806740Z"
    }
   },
   "outputs": [],
   "source": []
  },
  {
   "cell_type": "markdown",
   "metadata": {},
   "source": [
    "Some key observations include:\n",
    "1. There appear to be many different complaint types related to noise like 'Noise - Residential', 'Noise', etc.\n",
    "    - We will have to group these complaints to get an accurate picture of the overall number of noise complaints\n",
    "2. There are some complaints that were logged to an 'Unspecified' borough, but the total number of records is low (~4,000 out of total ~200,000)\n",
    "    - Since we will be grouping our data based on borough we can keep these records\n",
    "3. The data type of the 'Created Date' is currently a string object, which should be converted to a datetime object to allow us to easily filter on any day of the week, month, etc.\n",
    "\n",
    "Based on our observations, the cleanup we can do on these columns includes:\n",
    "1. Redefine 'Created Date' data type for filtering on days of the week (we want the most popular complaint on Sunday).\n",
    "2. Add a new column *'is_noise'* based on *'Complaint Type'* to capture similar noise-related complaints.\n",
    "\n",
    "## Part 3 - Cleaning the data\n",
    "\n",
    "#### 1. Redefine 'Created Date' data type for filtering on days of the week (we want the most popular complaint on Sunday)\n",
    "- By default, pandas read the 'Created Date' column as a string, so we will tell it that this is a date using the `to_datetime` method.\n",
    "- We can double-check to make sure it worked by using the `info()` to check for the column's data type"
   ]
  },
  {
   "cell_type": "code",
   "execution_count": null,
   "metadata": {
    "ExecuteTime": {
     "end_time": "2020-07-24T11:44:06.934257Z",
     "start_time": "2020-07-24T11:44:06.929050Z"
    }
   },
   "outputs": [],
   "source": []
  },
  {
   "cell_type": "code",
   "execution_count": null,
   "metadata": {
    "ExecuteTime": {
     "end_time": "2020-07-24T11:45:52.674582Z",
     "start_time": "2020-07-24T11:45:31.335400Z"
    }
   },
   "outputs": [],
   "source": []
  },
  {
   "cell_type": "code",
   "execution_count": null,
   "metadata": {
    "ExecuteTime": {
     "end_time": "2020-07-24T11:46:17.032813Z",
     "start_time": "2020-07-24T11:46:16.777322Z"
    }
   },
   "outputs": [],
   "source": []
  },
  {
   "cell_type": "markdown",
   "metadata": {},
   "source": [
    "#### 2. Add a new column *'is_noise'* based on *'Complaint Type'* to capture similar noise-related complaints like 'Noise' and 'Noise - Residential'\n",
    "- Just by looking at the top 10 complaint types using `value_counts`, we notice the data contains redundancy like 'Noise' and 'Noise - Residential', which is surprisingly common. \n",
    "- Grouping the data before cleaning it up will skew our results, so we need to clean it up first.\n",
    "- We will clean this up by identifying all complaints where the type contains the word 'noise' using the `str.contains` method, and creating a new column to indicate whether the complaint is noise-related *'is_noise'*"
   ]
  },
  {
   "cell_type": "code",
   "execution_count": null,
   "metadata": {
    "ExecuteTime": {
     "end_time": "2020-07-24T11:47:59.053806Z",
     "start_time": "2020-07-24T11:47:58.935861Z"
    }
   },
   "outputs": [],
   "source": []
  },
  {
   "cell_type": "code",
   "execution_count": null,
   "metadata": {
    "ExecuteTime": {
     "end_time": "2020-07-24T11:48:06.699958Z",
     "start_time": "2020-07-24T11:48:06.668941Z"
    }
   },
   "outputs": [],
   "source": []
  },
  {
   "cell_type": "markdown",
   "metadata": {},
   "source": [
    "## Part 4 - Answering the question\n",
    "Remember, our question is as follows:\n",
    "> What part of the city has the most noise complaints on Sunday?\n",
    "\n",
    "Now that our data is clean, all we have to do is:\n",
    "1. Filter on the noise complaints using our new column 'is_noise'\n",
    "2. Filter on the days of the week using the 'Created Date' column, which is super easy now that it's defined as a date\n",
    "    - `dt.dayofweek` returns a different number for each day of the week. Sunday is number 6 as per the [documentation](https://pandas.pydata.org/pandas-docs/stable/reference/api/pandas.Series.dt.dayofweek.html#pandas.Series.dt.dayofweek).\n",
    "3. Group the data by neighbourhood using the 'Borough' column, and sort to show the neighbourhoods at the top of the list.\n",
    "\n",
    "> Once we do this, it becomes clear that Manhattan has the most noise complaints on Sundays, followed closely by Brooklyn."
   ]
  },
  {
   "cell_type": "code",
   "execution_count": null,
   "metadata": {
    "ExecuteTime": {
     "end_time": "2020-07-24T11:52:50.364023Z",
     "start_time": "2020-07-24T11:52:50.282706Z"
    },
    "scrolled": false
   },
   "outputs": [],
   "source": []
  },
  {
   "cell_type": "code",
   "execution_count": null,
   "metadata": {
    "ExecuteTime": {
     "end_time": "2020-07-24T11:54:54.400643Z",
     "start_time": "2020-07-24T11:54:54.217851Z"
    }
   },
   "outputs": [],
   "source": []
  },
  {
   "cell_type": "markdown",
   "metadata": {},
   "source": [
    "## Part 5 - Making clean data available to others\n",
    "Now that we have cleaned our data, and added a new column, we can write it out to a file for future analysis."
   ]
  },
  {
   "cell_type": "code",
   "execution_count": 5,
   "metadata": {},
   "outputs": [],
   "source": [
    "df = pd.read_excel(\"C_Online_Retail.xlsx\")"
   ]
  },
  {
   "cell_type": "code",
   "execution_count": 6,
   "metadata": {},
   "outputs": [
    {
     "data": {
      "text/html": [
       "<div>\n",
       "<style scoped>\n",
       "    .dataframe tbody tr th:only-of-type {\n",
       "        vertical-align: middle;\n",
       "    }\n",
       "\n",
       "    .dataframe tbody tr th {\n",
       "        vertical-align: top;\n",
       "    }\n",
       "\n",
       "    .dataframe thead th {\n",
       "        text-align: right;\n",
       "    }\n",
       "</style>\n",
       "<table border=\"1\" class=\"dataframe\">\n",
       "  <thead>\n",
       "    <tr style=\"text-align: right;\">\n",
       "      <th></th>\n",
       "      <th>InvoiceNo</th>\n",
       "      <th>StockCode</th>\n",
       "      <th>Description</th>\n",
       "      <th>Quantity</th>\n",
       "      <th>InvoiceDate</th>\n",
       "      <th>UnitPrice</th>\n",
       "      <th>CustomerID</th>\n",
       "      <th>Country</th>\n",
       "    </tr>\n",
       "  </thead>\n",
       "  <tbody>\n",
       "    <tr>\n",
       "      <th>0</th>\n",
       "      <td>536365</td>\n",
       "      <td>85123A</td>\n",
       "      <td>WHITE HANGING HEART T-LIGHT HOLDER</td>\n",
       "      <td>6</td>\n",
       "      <td>2010-12-01 08:26:00</td>\n",
       "      <td>2.55</td>\n",
       "      <td>17850.0</td>\n",
       "      <td>United Kingdom</td>\n",
       "    </tr>\n",
       "    <tr>\n",
       "      <th>1</th>\n",
       "      <td>536365</td>\n",
       "      <td>71053</td>\n",
       "      <td>WHITE METAL LANTERN</td>\n",
       "      <td>6</td>\n",
       "      <td>2010-12-01 08:26:00</td>\n",
       "      <td>3.39</td>\n",
       "      <td>17850.0</td>\n",
       "      <td>United Kingdom</td>\n",
       "    </tr>\n",
       "    <tr>\n",
       "      <th>2</th>\n",
       "      <td>536365</td>\n",
       "      <td>84406B</td>\n",
       "      <td>CREAM CUPID HEARTS COAT HANGER</td>\n",
       "      <td>8</td>\n",
       "      <td>2010-12-01 08:26:00</td>\n",
       "      <td>2.75</td>\n",
       "      <td>17850.0</td>\n",
       "      <td>United Kingdom</td>\n",
       "    </tr>\n",
       "    <tr>\n",
       "      <th>3</th>\n",
       "      <td>536365</td>\n",
       "      <td>84029G</td>\n",
       "      <td>KNITTED UNION FLAG HOT WATER BOTTLE</td>\n",
       "      <td>6</td>\n",
       "      <td>2010-12-01 08:26:00</td>\n",
       "      <td>3.39</td>\n",
       "      <td>17850.0</td>\n",
       "      <td>United Kingdom</td>\n",
       "    </tr>\n",
       "    <tr>\n",
       "      <th>4</th>\n",
       "      <td>536365</td>\n",
       "      <td>84029E</td>\n",
       "      <td>RED WOOLLY HOTTIE WHITE HEART.</td>\n",
       "      <td>6</td>\n",
       "      <td>2010-12-01 08:26:00</td>\n",
       "      <td>3.39</td>\n",
       "      <td>17850.0</td>\n",
       "      <td>United Kingdom</td>\n",
       "    </tr>\n",
       "  </tbody>\n",
       "</table>\n",
       "</div>"
      ],
      "text/plain": [
       "  InvoiceNo StockCode                          Description  Quantity  \\\n",
       "0    536365    85123A   WHITE HANGING HEART T-LIGHT HOLDER         6   \n",
       "1    536365     71053                  WHITE METAL LANTERN         6   \n",
       "2    536365    84406B       CREAM CUPID HEARTS COAT HANGER         8   \n",
       "3    536365    84029G  KNITTED UNION FLAG HOT WATER BOTTLE         6   \n",
       "4    536365    84029E       RED WOOLLY HOTTIE WHITE HEART.         6   \n",
       "\n",
       "          InvoiceDate  UnitPrice  CustomerID         Country  \n",
       "0 2010-12-01 08:26:00       2.55     17850.0  United Kingdom  \n",
       "1 2010-12-01 08:26:00       3.39     17850.0  United Kingdom  \n",
       "2 2010-12-01 08:26:00       2.75     17850.0  United Kingdom  \n",
       "3 2010-12-01 08:26:00       3.39     17850.0  United Kingdom  \n",
       "4 2010-12-01 08:26:00       3.39     17850.0  United Kingdom  "
      ]
     },
     "execution_count": 6,
     "metadata": {},
     "output_type": "execute_result"
    }
   ],
   "source": [
    "df.head()"
   ]
  },
  {
   "cell_type": "code",
   "execution_count": 10,
   "metadata": {},
   "outputs": [
    {
     "data": {
      "text/plain": [
       "(541909, 8)"
      ]
     },
     "execution_count": 10,
     "metadata": {},
     "output_type": "execute_result"
    }
   ],
   "source": [
    "df.shape"
   ]
  },
  {
   "cell_type": "code",
   "execution_count": 20,
   "metadata": {},
   "outputs": [
    {
     "name": "stdout",
     "output_type": "stream",
     "text": [
      "<class 'pandas.core.frame.DataFrame'>\n",
      "RangeIndex: 541909 entries, 0 to 541908\n",
      "Data columns (total 8 columns):\n",
      "InvoiceNo      541909 non-null object\n",
      "StockCode      541909 non-null object\n",
      "Description    540455 non-null object\n",
      "Quantity       541909 non-null int64\n",
      "InvoiceDate    541909 non-null datetime64[ns]\n",
      "UnitPrice      541909 non-null float64\n",
      "CustomerID     406829 non-null float64\n",
      "Country        541909 non-null object\n",
      "dtypes: datetime64[ns](1), float64(2), int64(1), object(4)\n",
      "memory usage: 33.1+ MB\n"
     ]
    }
   ],
   "source": [
    "df.info(verbose='True')"
   ]
  },
  {
   "cell_type": "code",
   "execution_count": 21,
   "metadata": {},
   "outputs": [
    {
     "ename": "AttributeError",
     "evalue": "'DataFrame' object has no attribute 'define'",
     "output_type": "error",
     "traceback": [
      "\u001b[0;31m---------------------------------------------------------------------------\u001b[0m",
      "\u001b[0;31mAttributeError\u001b[0m                            Traceback (most recent call last)",
      "\u001b[0;32m<ipython-input-21-b0245776a8f6>\u001b[0m in \u001b[0;36m<module>\u001b[0;34m\u001b[0m\n\u001b[0;32m----> 1\u001b[0;31m \u001b[0mdf\u001b[0m\u001b[0;34m.\u001b[0m\u001b[0mdefine\u001b[0m\u001b[0;34m(\u001b[0m\u001b[0;34m)\u001b[0m\u001b[0;34m\u001b[0m\u001b[0;34m\u001b[0m\u001b[0m\n\u001b[0m",
      "\u001b[0;32m~/anaconda3/lib/python3.7/site-packages/pandas/core/generic.py\u001b[0m in \u001b[0;36m__getattr__\u001b[0;34m(self, name)\u001b[0m\n\u001b[1;32m   5065\u001b[0m             \u001b[0;32mif\u001b[0m \u001b[0mself\u001b[0m\u001b[0;34m.\u001b[0m\u001b[0m_info_axis\u001b[0m\u001b[0;34m.\u001b[0m\u001b[0m_can_hold_identifiers_and_holds_name\u001b[0m\u001b[0;34m(\u001b[0m\u001b[0mname\u001b[0m\u001b[0;34m)\u001b[0m\u001b[0;34m:\u001b[0m\u001b[0;34m\u001b[0m\u001b[0;34m\u001b[0m\u001b[0m\n\u001b[1;32m   5066\u001b[0m                 \u001b[0;32mreturn\u001b[0m \u001b[0mself\u001b[0m\u001b[0;34m[\u001b[0m\u001b[0mname\u001b[0m\u001b[0;34m]\u001b[0m\u001b[0;34m\u001b[0m\u001b[0;34m\u001b[0m\u001b[0m\n\u001b[0;32m-> 5067\u001b[0;31m             \u001b[0;32mreturn\u001b[0m \u001b[0mobject\u001b[0m\u001b[0;34m.\u001b[0m\u001b[0m__getattribute__\u001b[0m\u001b[0;34m(\u001b[0m\u001b[0mself\u001b[0m\u001b[0;34m,\u001b[0m \u001b[0mname\u001b[0m\u001b[0;34m)\u001b[0m\u001b[0;34m\u001b[0m\u001b[0;34m\u001b[0m\u001b[0m\n\u001b[0m\u001b[1;32m   5068\u001b[0m \u001b[0;34m\u001b[0m\u001b[0m\n\u001b[1;32m   5069\u001b[0m     \u001b[0;32mdef\u001b[0m \u001b[0m__setattr__\u001b[0m\u001b[0;34m(\u001b[0m\u001b[0mself\u001b[0m\u001b[0;34m,\u001b[0m \u001b[0mname\u001b[0m\u001b[0;34m,\u001b[0m \u001b[0mvalue\u001b[0m\u001b[0;34m)\u001b[0m\u001b[0;34m:\u001b[0m\u001b[0;34m\u001b[0m\u001b[0;34m\u001b[0m\u001b[0m\n",
      "\u001b[0;31mAttributeError\u001b[0m: 'DataFrame' object has no attribute 'define'"
     ]
    }
   ],
   "source": [
    "df.define()"
   ]
  },
  {
   "cell_type": "code",
   "execution_count": 22,
   "metadata": {},
   "outputs": [
    {
     "data": {
      "text/html": [
       "<div>\n",
       "<style scoped>\n",
       "    .dataframe tbody tr th:only-of-type {\n",
       "        vertical-align: middle;\n",
       "    }\n",
       "\n",
       "    .dataframe tbody tr th {\n",
       "        vertical-align: top;\n",
       "    }\n",
       "\n",
       "    .dataframe thead th {\n",
       "        text-align: right;\n",
       "    }\n",
       "</style>\n",
       "<table border=\"1\" class=\"dataframe\">\n",
       "  <thead>\n",
       "    <tr style=\"text-align: right;\">\n",
       "      <th></th>\n",
       "      <th>Quantity</th>\n",
       "      <th>UnitPrice</th>\n",
       "      <th>CustomerID</th>\n",
       "    </tr>\n",
       "  </thead>\n",
       "  <tbody>\n",
       "    <tr>\n",
       "      <th>count</th>\n",
       "      <td>541909.000000</td>\n",
       "      <td>541909.000000</td>\n",
       "      <td>406829.000000</td>\n",
       "    </tr>\n",
       "    <tr>\n",
       "      <th>mean</th>\n",
       "      <td>9.552250</td>\n",
       "      <td>4.611114</td>\n",
       "      <td>15287.690570</td>\n",
       "    </tr>\n",
       "    <tr>\n",
       "      <th>std</th>\n",
       "      <td>218.081158</td>\n",
       "      <td>96.759853</td>\n",
       "      <td>1713.600303</td>\n",
       "    </tr>\n",
       "    <tr>\n",
       "      <th>min</th>\n",
       "      <td>-80995.000000</td>\n",
       "      <td>-11062.060000</td>\n",
       "      <td>12346.000000</td>\n",
       "    </tr>\n",
       "    <tr>\n",
       "      <th>25%</th>\n",
       "      <td>1.000000</td>\n",
       "      <td>1.250000</td>\n",
       "      <td>13953.000000</td>\n",
       "    </tr>\n",
       "    <tr>\n",
       "      <th>50%</th>\n",
       "      <td>3.000000</td>\n",
       "      <td>2.080000</td>\n",
       "      <td>15152.000000</td>\n",
       "    </tr>\n",
       "    <tr>\n",
       "      <th>75%</th>\n",
       "      <td>10.000000</td>\n",
       "      <td>4.130000</td>\n",
       "      <td>16791.000000</td>\n",
       "    </tr>\n",
       "    <tr>\n",
       "      <th>max</th>\n",
       "      <td>80995.000000</td>\n",
       "      <td>38970.000000</td>\n",
       "      <td>18287.000000</td>\n",
       "    </tr>\n",
       "  </tbody>\n",
       "</table>\n",
       "</div>"
      ],
      "text/plain": [
       "            Quantity      UnitPrice     CustomerID\n",
       "count  541909.000000  541909.000000  406829.000000\n",
       "mean        9.552250       4.611114   15287.690570\n",
       "std       218.081158      96.759853    1713.600303\n",
       "min    -80995.000000  -11062.060000   12346.000000\n",
       "25%         1.000000       1.250000   13953.000000\n",
       "50%         3.000000       2.080000   15152.000000\n",
       "75%        10.000000       4.130000   16791.000000\n",
       "max     80995.000000   38970.000000   18287.000000"
      ]
     },
     "execution_count": 22,
     "metadata": {},
     "output_type": "execute_result"
    }
   ],
   "source": [
    "df.describe()"
   ]
  },
  {
   "cell_type": "code",
   "execution_count": null,
   "metadata": {},
   "outputs": [],
   "source": [
    "df2 = df.copy()"
   ]
  },
  {
   "cell_type": "code",
   "execution_count": 35,
   "metadata": {},
   "outputs": [
    {
     "data": {
      "text/plain": [
       "InvoiceNo              object\n",
       "StockCode              object\n",
       "Description            object\n",
       "Quantity                int64\n",
       "InvoiceDate    datetime64[ns]\n",
       "UnitPrice             float64\n",
       "CustomerID            float64\n",
       "Country                object\n",
       "dtype: object"
      ]
     },
     "execution_count": 35,
     "metadata": {},
     "output_type": "execute_result"
    }
   ],
   "source": [
    "df2.dtypes"
   ]
  },
  {
   "cell_type": "code",
   "execution_count": 38,
   "metadata": {},
   "outputs": [],
   "source": [
    "df2 = df2[(df2['Quantity'] >= 0) & (df2['UnitPrice'] >= 0)]"
   ]
  },
  {
   "cell_type": "code",
   "execution_count": 39,
   "metadata": {},
   "outputs": [
    {
     "data": {
      "text/plain": [
       "(531283, 8)"
      ]
     },
     "execution_count": 39,
     "metadata": {},
     "output_type": "execute_result"
    }
   ],
   "source": [
    "df2.shape"
   ]
  },
  {
   "cell_type": "code",
   "execution_count": 40,
   "metadata": {},
   "outputs": [
    {
     "data": {
      "text/html": [
       "<div>\n",
       "<style scoped>\n",
       "    .dataframe tbody tr th:only-of-type {\n",
       "        vertical-align: middle;\n",
       "    }\n",
       "\n",
       "    .dataframe tbody tr th {\n",
       "        vertical-align: top;\n",
       "    }\n",
       "\n",
       "    .dataframe thead th {\n",
       "        text-align: right;\n",
       "    }\n",
       "</style>\n",
       "<table border=\"1\" class=\"dataframe\">\n",
       "  <thead>\n",
       "    <tr style=\"text-align: right;\">\n",
       "      <th></th>\n",
       "      <th>Quantity</th>\n",
       "      <th>UnitPrice</th>\n",
       "      <th>CustomerID</th>\n",
       "    </tr>\n",
       "  </thead>\n",
       "  <tbody>\n",
       "    <tr>\n",
       "      <th>count</th>\n",
       "      <td>531283.000000</td>\n",
       "      <td>531283.000000</td>\n",
       "      <td>397924.000000</td>\n",
       "    </tr>\n",
       "    <tr>\n",
       "      <th>mean</th>\n",
       "      <td>10.655299</td>\n",
       "      <td>3.898954</td>\n",
       "      <td>15294.315171</td>\n",
       "    </tr>\n",
       "    <tr>\n",
       "      <th>std</th>\n",
       "      <td>156.830617</td>\n",
       "      <td>35.876279</td>\n",
       "      <td>1713.169877</td>\n",
       "    </tr>\n",
       "    <tr>\n",
       "      <th>min</th>\n",
       "      <td>1.000000</td>\n",
       "      <td>0.000000</td>\n",
       "      <td>12346.000000</td>\n",
       "    </tr>\n",
       "    <tr>\n",
       "      <th>25%</th>\n",
       "      <td>1.000000</td>\n",
       "      <td>1.250000</td>\n",
       "      <td>13969.000000</td>\n",
       "    </tr>\n",
       "    <tr>\n",
       "      <th>50%</th>\n",
       "      <td>3.000000</td>\n",
       "      <td>2.080000</td>\n",
       "      <td>15159.000000</td>\n",
       "    </tr>\n",
       "    <tr>\n",
       "      <th>75%</th>\n",
       "      <td>10.000000</td>\n",
       "      <td>4.130000</td>\n",
       "      <td>16795.000000</td>\n",
       "    </tr>\n",
       "    <tr>\n",
       "      <th>max</th>\n",
       "      <td>80995.000000</td>\n",
       "      <td>13541.330000</td>\n",
       "      <td>18287.000000</td>\n",
       "    </tr>\n",
       "  </tbody>\n",
       "</table>\n",
       "</div>"
      ],
      "text/plain": [
       "            Quantity      UnitPrice     CustomerID\n",
       "count  531283.000000  531283.000000  397924.000000\n",
       "mean       10.655299       3.898954   15294.315171\n",
       "std       156.830617      35.876279    1713.169877\n",
       "min         1.000000       0.000000   12346.000000\n",
       "25%         1.000000       1.250000   13969.000000\n",
       "50%         3.000000       2.080000   15159.000000\n",
       "75%        10.000000       4.130000   16795.000000\n",
       "max     80995.000000   13541.330000   18287.000000"
      ]
     },
     "execution_count": 40,
     "metadata": {},
     "output_type": "execute_result"
    }
   ],
   "source": [
    "df2.describe()"
   ]
  },
  {
   "cell_type": "code",
   "execution_count": 42,
   "metadata": {},
   "outputs": [
    {
     "data": {
      "text/plain": [
       "StockCode\n",
       "23843     80995\n",
       "23166     78033\n",
       "22197     56921\n",
       "84077     55047\n",
       "85099B    48478\n",
       "85123A    41664\n",
       "84879     36461\n",
       "21212     36419\n",
       "23084     31722\n",
       "22492     26633\n",
       "22616     26339\n",
       "21977     24854\n",
       "22178     24304\n",
       "15036     23826\n",
       "17003     23056\n",
       "21915     22133\n",
       "22386     21465\n",
       "23203     20603\n",
       "20725     19553\n",
       "22086     19355\n",
       "84946     19246\n",
       "47566     18299\n",
       "84991     18214\n",
       "22355     18153\n",
       "22469     17979\n",
       "20724     17771\n",
       "85099F    17377\n",
       "84755     16449\n",
       "22961     16412\n",
       "22693     16244\n",
       "          ...  \n",
       "90100         1\n",
       "23628         1\n",
       "90037A        1\n",
       "90092         1\n",
       "23609         1\n",
       "23602         1\n",
       "21839         1\n",
       "85049c        1\n",
       "85036b        1\n",
       "85035c        1\n",
       "47579         1\n",
       "47591b        1\n",
       "21410         1\n",
       "21414         1\n",
       "84968f        1\n",
       "46776e        1\n",
       "46776b        1\n",
       "90025E        1\n",
       "20860         1\n",
       "85031B        1\n",
       "85035b        1\n",
       "35609A        1\n",
       "35600A        1\n",
       "35597B        1\n",
       "20849         1\n",
       "35597A        1\n",
       "85034b        1\n",
       "90081B        1\n",
       "85119         1\n",
       "m             1\n",
       "Name: Quantity, Length: 3941, dtype: int64"
      ]
     },
     "execution_count": 42,
     "metadata": {},
     "output_type": "execute_result"
    }
   ],
   "source": [
    "df2.groupby(['StockCode'])['Quantity'].agg('sum').sort_values(ascending=False)"
   ]
  },
  {
   "cell_type": "code",
   "execution_count": 43,
   "metadata": {},
   "outputs": [
    {
     "data": {
      "text/plain": [
       "StockCode\n",
       "22197      56450\n",
       "84077      53847\n",
       "85099B     47363\n",
       "85123A     38830\n",
       "84879      36221\n",
       "21212      36039\n",
       "23084      30646\n",
       "22492      26437\n",
       "22616      26315\n",
       "21977      24753\n",
       "22178      23854\n",
       "17003      23053\n",
       "15036      22552\n",
       "21915      22066\n",
       "22386      21009\n",
       "23203      20013\n",
       "20725      18979\n",
       "84946      18911\n",
       "22086      18902\n",
       "84991      18040\n",
       "47566      18022\n",
       "22355      18003\n",
       "22469      17791\n",
       "20724      17548\n",
       "84755      16380\n",
       "22693      16172\n",
       "22961      16081\n",
       "85099F     16035\n",
       "22952      15767\n",
       "21213      15128\n",
       "           ...  \n",
       "79323G      -657\n",
       "79323S      -674\n",
       "85172       -755\n",
       "79341       -905\n",
       "85036B      -944\n",
       "72038P      -990\n",
       "85036C      -999\n",
       "35610C     -1096\n",
       "79342B     -1128\n",
       "79323GR    -1158\n",
       "D          -1194\n",
       "23113      -1232\n",
       "35610A     -1267\n",
       "23115      -1285\n",
       "23114      -1294\n",
       "84598      -1313\n",
       "23117      -1348\n",
       "23116      -1362\n",
       "22351      -1387\n",
       "23270      -1607\n",
       "22618      -1632\n",
       "79323B     -1671\n",
       "79323P     -2007\n",
       "23059      -2376\n",
       "72732      -2472\n",
       "79323LP    -2618\n",
       "79323W     -4838\n",
       "72140F     -5368\n",
       "23003      -8516\n",
       "23005     -14418\n",
       "Name: Quantity, Length: 4070, dtype: int64"
      ]
     },
     "execution_count": 43,
     "metadata": {},
     "output_type": "execute_result"
    }
   ],
   "source": [
    "df.groupby(['StockCode'])['Quantity'].agg('sum').sort_values(ascending=False)"
   ]
  },
  {
   "cell_type": "code",
   "execution_count": null,
   "metadata": {},
   "outputs": [],
   "source": []
  }
 ],
 "metadata": {
  "kernelspec": {
   "display_name": "Python 3",
   "language": "python",
   "name": "python3"
  },
  "language_info": {
   "codemirror_mode": {
    "name": "ipython",
    "version": 3
   },
   "file_extension": ".py",
   "mimetype": "text/x-python",
   "name": "python",
   "nbconvert_exporter": "python",
   "pygments_lexer": "ipython3",
   "version": "3.7.3"
  }
 },
 "nbformat": 4,
 "nbformat_minor": 4
}
